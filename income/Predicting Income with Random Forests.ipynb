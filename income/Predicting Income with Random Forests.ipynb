{
 "cells": [
  {
   "cell_type": "code",
   "execution_count": null,
   "metadata": {},
   "outputs": [],
   "source": [
    "def warn(*args, **kwargs):\n",
    "    pass\n",
    "import warnings\n",
    "warnings.warn = warn\n",
    "\n",
    "import pandas as pd\n",
    "from sklearn.model_selection import train_test_split\n",
    "from sklearn import tree\n",
    "from sklearn.ensemble import RandomForestClassifier\n",
    "\n",
    "income_data = pd.read_csv(\"income.csv\", header = 0, delimiter = \", \")\n",
    "# print(income_data.iloc[0])\n",
    "\n",
    "labels = income_data[[\"income\"]]\n",
    "income_data[\"sex-int\"] = income_data[\"sex\"].apply(lambda row: 0 if row == \"Male\" else 1)\n",
    "# income_data[\"country-int\"] = income_data[\"country-int\"].apply(lambda row: 0 if row == \"United-States\" else 1)\n",
    "data = income_data[[\"age\", \"capital-gain\", \"capital-loss\", \"hours-per-week\", \"sex-int\"]]\n",
    "\n",
    "#Random Forest Classifier\n",
    "train_data, test_data, train_labels, test_labels = train_test_split(data, labels, random_state = 1)\n",
    "forest = RandomForestClassifier(random_state = 1)\n",
    "forest.fit(train_data, train_labels)\n",
    "\n",
    "print(forest.score(test_data, test_labels))\n",
    "# print(income_data[\"native-country\"].value_counts())\n",
    "\n",
    "# #Decision Classifier\n",
    "# tree = DecisionTreeClassifier(random_state = 1)\n",
    "# tree.fit(train_data, train_labels)\n",
    "\n",
    "# print(tree.score(test_data, test_labels))\n",
    "# print(income_data[\"native-country\"].value_counts())"
   ]
  }
 ],
 "metadata": {
  "kernelspec": {
   "display_name": "Python 3",
   "language": "python",
   "name": "python3"
  },
  "language_info": {
   "codemirror_mode": {
    "name": "ipython",
    "version": 3
   },
   "file_extension": ".py",
   "mimetype": "text/x-python",
   "name": "python",
   "nbconvert_exporter": "python",
   "pygments_lexer": "ipython3",
   "version": "3.8.5"
  }
 },
 "nbformat": 4,
 "nbformat_minor": 4
}
